{
 "cells": [
  {
   "cell_type": "code",
   "execution_count": null,
   "metadata": {
    "ExecuteTime": {
     "end_time": "2025-03-01T09:55:46.430090Z",
     "start_time": "2025-03-01T09:55:46.242256Z"
    }
   },
   "outputs": [],
   "source": [
    "import json\n",
    "import pandas as pd\n",
    "import os\n",
    "import tqdm"
   ]
  },
  {
   "cell_type": "markdown",
   "metadata": {},
   "source": [
    "# 实体数据"
   ]
  },
  {
   "cell_type": "code",
   "execution_count": null,
   "metadata": {},
   "outputs": [],
   "source": [
    "file_list = os.listdir('../entities/')\n",
    "for one_file in file_list:\n",
    "    print(one_file)\n",
    "    with open(f'../entities/{one_file}') as f:\n",
    "        data = f.read()\n",
    "    all_data_list = data.split('}\\n')\n",
    "    del data\n",
    "    all_data_list = [json.loads(one+'}') for one in all_data_list[:-1]]\n",
    "    one_pkl = one_file.split('.')[0]+'.pkl'\n",
    "    one_set = pd.DataFrame(all_data_list)\n",
    "    del all_data_list\n",
    "    one_set.to_pickle(f'data/entities/{one_pkl}')\n",
    "    print(one_set.head(2))"
   ]
  },
  {
   "cell_type": "code",
   "execution_count": null,
   "metadata": {
    "ExecuteTime": {
     "end_time": "2023-10-19T14:32:28.455866Z",
     "start_time": "2023-10-19T14:32:06.387696Z"
    }
   },
   "outputs": [],
   "source": [
    "one_set = pd.read_pickle(f'data/entities/user.pkl')\n",
    "one_set.head()"
   ]
  },
  {
   "cell_type": "code",
   "execution_count": null,
   "metadata": {
    "ExecuteTime": {
     "end_time": "2023-10-19T14:05:36.721156Z",
     "start_time": "2023-10-19T14:05:35.905840Z"
    }
   },
   "outputs": [],
   "source": [
    "one_set = pd.read_pickle(f'data/entities/course.pkl')\n",
    "one_set.head()"
   ]
  },
  {
   "cell_type": "code",
   "execution_count": null,
   "metadata": {
    "ExecuteTime": {
     "end_time": "2023-10-19T07:37:40.365678Z",
     "start_time": "2023-10-19T07:37:26.078227Z"
    }
   },
   "outputs": [],
   "source": [
    "one_set = pd.read_pickle(f'data/entities/comment.pkl')\n",
    "one_set.head()"
   ]
  },
  {
   "cell_type": "code",
   "execution_count": null,
   "metadata": {
    "ExecuteTime": {
     "end_time": "2023-10-19T07:38:15.047867Z",
     "start_time": "2023-10-19T07:38:10.477869Z"
    }
   },
   "outputs": [],
   "source": [
    "one_set = pd.read_pickle(f'data/entities/concept.pkl')\n",
    "one_set.head()"
   ]
  },
  {
   "cell_type": "code",
   "execution_count": null,
   "metadata": {
    "ExecuteTime": {
     "end_time": "2023-10-19T07:38:27.917023Z",
     "start_time": "2023-10-19T07:38:25.266376Z"
    }
   },
   "outputs": [],
   "source": [
    "one_set = pd.read_pickle(f'data/entities/other.pkl')\n",
    "one_set.head()"
   ]
  },
  {
   "cell_type": "code",
   "execution_count": null,
   "metadata": {
    "ExecuteTime": {
     "end_time": "2023-10-19T07:39:59.383244Z",
     "start_time": "2023-10-19T07:38:38.472203Z"
    }
   },
   "outputs": [],
   "source": [
    "one_set = pd.read_pickle(f'data/entities/paper.pkl')\n",
    "one_set.head()"
   ]
  },
  {
   "cell_type": "code",
   "execution_count": null,
   "metadata": {
    "ExecuteTime": {
     "end_time": "2023-10-19T07:40:19.749958Z",
     "start_time": "2023-10-19T07:40:09.691666Z"
    }
   },
   "outputs": [],
   "source": [
    "one_set = pd.read_pickle(f'data/entities/problem.pkl')\n",
    "one_set.head()"
   ]
  },
  {
   "cell_type": "code",
   "execution_count": null,
   "metadata": {
    "ExecuteTime": {
     "end_time": "2023-10-19T07:41:09.111990Z",
     "start_time": "2023-10-19T07:41:08.762955Z"
    }
   },
   "outputs": [],
   "source": [
    "one_set = pd.read_pickle(f'data/entities/reply.pkl')\n",
    "one_set.head()"
   ]
  },
  {
   "cell_type": "code",
   "execution_count": null,
   "metadata": {
    "ExecuteTime": {
     "end_time": "2023-10-19T15:02:27.751265Z",
     "start_time": "2023-10-19T15:02:21.748615Z"
    }
   },
   "outputs": [],
   "source": [
    "one_set = pd.read_pickle(f'data/entities/video.pkl')\n",
    "one_set.head()"
   ]
  },
  {
   "cell_type": "code",
   "execution_count": null,
   "metadata": {
    "ExecuteTime": {
     "end_time": "2023-10-19T08:29:00.542833Z",
     "start_time": "2023-10-19T08:29:00.468593Z"
    }
   },
   "outputs": [],
   "source": [
    "one_set = pd.read_pickle(f'data/entities/teacher.pkl')\n",
    "one_set.head()"
   ]
  },
  {
   "cell_type": "markdown",
   "metadata": {},
   "source": [
    "# 用户问题数据"
   ]
  },
  {
   "cell_type": "code",
   "execution_count": null,
   "metadata": {
    "ExecuteTime": {
     "end_time": "2023-10-27T16:01:28.280163Z",
     "start_time": "2023-10-27T15:33:26.610693Z"
    }
   },
   "outputs": [],
   "source": [
    "file_list = os.listdir('../relations/')\n",
    "print(file_list)\n",
    "for one_file in file_list:\n",
    "    if 'json' in one_file:\n",
    "        print('Processing...',one_file)\n",
    "        with open(f'../relations/{one_file}') as f:\n",
    "            data = f.read()\n",
    "        all_data_list = data.split('}\\n')[:-1]\n",
    "        del data\n",
    "        if 'problem' in one_file:\n",
    "            all_user_problem = pd.DataFrame()\n",
    "            for i in range(14):\n",
    "                all_need_data = []\n",
    "                for one in tqdm.tqdm(all_data_list[:10000000]):\n",
    "                    all_need_data.append(json.loads(one+'}'))\n",
    "                del all_data_list[:10000000]\n",
    "                user_problem = pd.DataFrame(all_need_data)\n",
    "                del all_need_data\n",
    "                user_problem['user_id'] = user_problem['user_id'].apply(lambda x: int(x.split('_')[1]))\n",
    "                user_problem['problem_id'] = user_problem['problem_id'].apply(lambda x: int(x.split('_')[1]))\n",
    "                all_user_problem = pd.concat([all_user_problem, user_problem], axis=0)\n",
    "            pd.to_pickle(all_user_problem,'data/relations/all_user_problem.pkl')\n",
    "            del all_user_problem\n",
    "        else:\n",
    "            all_need_data = []\n",
    "            for one in tqdm.tqdm(all_data_list):\n",
    "                all_need_data.append(json.loads(one+'}'))\n",
    "            del all_data_list\n",
    "            one_pkl = one_file.split('.')[0]+'.pkl'\n",
    "            one_set = pd.DataFrame(all_need_data)\n",
    "            del all_need_data\n",
    "            one_set.to_pickle(f'data/relations/{one_pkl}')\n",
    "            del one_set"
   ]
  },
  {
   "cell_type": "markdown",
   "metadata": {
    "ExecuteTime": {
     "end_time": "2023-11-02T13:06:05.006167Z",
     "start_time": "2023-11-02T13:06:05.001423Z"
    }
   },
   "source": [
    "# 获取关系数据里面的txt"
   ]
  },
  {
   "cell_type": "markdown",
   "metadata": {},
   "source": [
    "## 获取视频的ccid数据"
   ]
  },
  {
   "cell_type": "code",
   "execution_count": null,
   "metadata": {
    "ExecuteTime": {
     "end_time": "2025-03-01T10:13:40.226090Z",
     "start_time": "2025-03-01T10:13:39.506644Z"
    }
   },
   "outputs": [],
   "source": [
    "with open(f'../relations/video_id-ccid.txt') as f:\n",
    "    data = f.read()\n",
    "all_data_list = data.split('\\n')[:-1]"
   ]
  },
  {
   "cell_type": "markdown",
   "metadata": {
    "ExecuteTime": {
     "end_time": "2023-11-02T07:03:43.741599Z",
     "start_time": "2023-11-02T07:03:43.253352Z"
    }
   },
   "source": [
    "## 获取练习和问题的关系数据"
   ]
  },
  {
   "cell_type": "code",
   "execution_count": null,
   "metadata": {
    "ExecuteTime": {
     "end_time": "2025-02-28T17:26:07.248326Z",
     "start_time": "2025-02-28T17:25:52.229816Z"
    }
   },
   "outputs": [],
   "source": [
    "with open(f'../relations/exercise-problem.txt') as f:\n",
    "    data = f.read()\n",
    "all_data_list = data.split('\\n')[:-1]\n",
    "all_data = []\n",
    "for one in all_data_list:\n",
    "    v_c = one.split('\\t')\n",
    "    one_e_id = int(v_c[0].split('_')[1])\n",
    "    one_q_id = int(v_c[1].split('_')[1])\n",
    "    all_data.append({'e_id':one_e_id,'q_id':one_q_id})\n",
    "all_data = pd.DataFrame(all_data)\n",
    "pd.to_pickle(all_data,'data/relations/exercise_problem.pkl')\n",
    "all_data.head()"
   ]
  },
  {
   "cell_type": "markdown",
   "metadata": {
    "ExecuteTime": {
     "end_time": "2023-11-02T07:07:55.843732Z",
     "start_time": "2023-11-02T07:07:53.803463Z"
    }
   },
   "source": [
    "## 获取概念与问题的关系"
   ]
  },
  {
   "cell_type": "code",
   "execution_count": null,
   "metadata": {
    "ExecuteTime": {
     "end_time": "2025-02-28T17:29:06.788146Z",
     "start_time": "2025-02-28T17:29:06.608437Z"
    }
   },
   "outputs": [],
   "source": [
    "with open(f'../relations/concept-problem.txt') as f:\n",
    "    data = f.read()\n",
    "data = data.split('\\n')[:-1]\n",
    "concept_problem = []\n",
    "for one in tqdm.tqdm(data):\n",
    "    v_c = one.split('\\t')\n",
    "    one_c = v_c[0].split('_')[1]\n",
    "    one_s = v_c[0].split('_')[2]\n",
    "    one_q_id = int(v_c[1].split('_')[1]) \n",
    "    concept_problem.append({'concept':one_c,'subject':one_s,'q_id':one_q_id})\n",
    "concept_problem = pd.DataFrame(concept_problem)\n",
    "pd.to_pickle(concept_problem,'data/relations/concept_problem.pkl')\n",
    "concept_problem.head()"
   ]
  },
  {
   "cell_type": "markdown",
   "metadata": {
    "ExecuteTime": {
     "end_time": "2025-02-28T17:19:54.816593Z",
     "start_time": "2025-02-28T17:19:54.808956Z"
    }
   },
   "source": [
    "## 获取用户评论的数据"
   ]
  },
  {
   "cell_type": "code",
   "execution_count": null,
   "metadata": {
    "ExecuteTime": {
     "end_time": "2025-03-01T09:58:52.769030Z",
     "start_time": "2025-03-01T09:58:32.992185Z"
    }
   },
   "outputs": [],
   "source": [
    "with open(f'../relations/user-comment.txt') as f:\n",
    "    data = f.read()\n",
    "data = data.split('\\n')[:-1]\n",
    "data[0]\n",
    "concept_problem = []\n",
    "for one in tqdm.tqdm(data):\n",
    "    v_c = one.split('\\t')\n",
    "    one_c = v_c[0].split('_')[1]\n",
    "    one_s = v_c[0].split('_')[1]\n",
    "    concept_problem.append({'stu_id':int(one_c),'comment_id':int(one_s)})\n",
    "concept_problem = pd.DataFrame(concept_problem)\n",
    "pd.to_pickle(concept_problem,'data/relations/user_comment.pkl')\n",
    "concept_problem.head()"
   ]
  },
  {
   "cell_type": "markdown",
   "metadata": {},
   "source": [
    "## 获取评论与概念的关系"
   ]
  },
  {
   "cell_type": "code",
   "execution_count": null,
   "metadata": {
    "ExecuteTime": {
     "end_time": "2025-03-01T10:01:58.712774Z",
     "start_time": "2025-03-01T10:01:58.533855Z"
    }
   },
   "outputs": [],
   "source": [
    "with open(f'../relations/concept-comment.txt') as f:\n",
    "    data = f.read()\n",
    "data = data.split('\\n')[:-1]\n",
    "concept_problem = []\n",
    "for one in tqdm.tqdm(data):\n",
    "    v_c = one.split('\\t')\n",
    "    one_c = v_c[0].split('_')[1]\n",
    "    one_s = v_c[0].split('_')[2]\n",
    "    one_q_id = int(v_c[1].split('_')[1]) \n",
    "    concept_problem.append({'concept':one_c,'subject':one_s,'comment':one_q_id})\n",
    "concept_problem = pd.DataFrame(concept_problem)\n",
    "pd.to_pickle(concept_problem,'data/relations/concept_comment.pkl')\n",
    "concept_problem.head()"
   ]
  },
  {
   "cell_type": "markdown",
   "metadata": {},
   "source": [
    "## 获取概念与视频的关系"
   ]
  },
  {
   "cell_type": "code",
   "execution_count": null,
   "metadata": {
    "ExecuteTime": {
     "end_time": "2025-03-01T10:02:07.724957Z",
     "start_time": "2025-03-01T10:02:05.034835Z"
    }
   },
   "outputs": [],
   "source": [
    "with open(f'../relations/concept-video.txt') as f:\n",
    "    data = f.read()\n",
    "data = data.split('\\n')[:-1]\n",
    "concept_problem = []\n",
    "for one in tqdm.tqdm(data):\n",
    "    v_c = one.split('\\t')\n",
    "    one_c = v_c[0].split('_')[1]\n",
    "    one_s = v_c[0].split('_')[2]\n",
    "    concept_problem.append({'concept':one_c,'subject':one_s,'v_ccid':v_c[1]})\n",
    "concept_problem = pd.DataFrame(concept_problem)\n",
    "pd.to_pickle(concept_problem,'data/relations/concept_video.pkl')\n",
    "concept_problem.head()"
   ]
  },
  {
   "cell_type": "markdown",
   "metadata": {},
   "source": [
    "## 获取概念与论文的关系"
   ]
  },
  {
   "cell_type": "code",
   "execution_count": null,
   "metadata": {
    "ExecuteTime": {
     "end_time": "2025-03-01T10:06:14.968469Z",
     "start_time": "2025-03-01T10:05:50.758045Z"
    }
   },
   "outputs": [],
   "source": [
    "with open(f'../relations/concept-paper.txt') as f:\n",
    "    data = f.read()\n",
    "data = data.split('\\n')[:-1]\n",
    "concept_problem = []\n",
    "for one in tqdm.tqdm(data):\n",
    "    try:\n",
    "        v_c = one.split('\\t')\n",
    "        one_c = v_c[0].split('_')[1]\n",
    "        one_s = v_c[0].split('_')[2]\n",
    "    #     one_q_id = v_c[1].split('_')[1]\n",
    "        concept_problem.append({'concept':one_c,'subject':one_s,'paper_ccid':v_c[1]})\n",
    "    except:\n",
    "        continue\n",
    "concept_problem = pd.DataFrame(concept_problem)\n",
    "pd.to_pickle(concept_problem,'data/relations/concept_paper.pkl')\n",
    "concept_problem.head()"
   ]
  },
  {
   "cell_type": "markdown",
   "metadata": {},
   "source": [
    "# 处理prerequisites里的概念的先后关系"
   ]
  },
  {
   "cell_type": "code",
   "execution_count": null,
   "metadata": {
    "ExecuteTime": {
     "end_time": "2025-02-28T17:31:15.433606Z",
     "start_time": "2025-02-28T17:31:10.111510Z"
    }
   },
   "outputs": [],
   "source": [
    "with open(f'../prerequisites/math.json') as f:\n",
    "    data = f.read()\n",
    "data = data.split('}\\n')\n",
    "data = [json.loads(one+'}') for one in data[:-1]]\n",
    "data = pd.DataFrame(data)\n",
    "pd.to_pickle(data,'data/relations/math.pkl')\n",
    "data.head()"
   ]
  },
  {
   "cell_type": "code",
   "execution_count": null,
   "metadata": {
    "ExecuteTime": {
     "end_time": "2025-02-28T17:31:30.550313Z",
     "start_time": "2025-02-28T17:31:23.162440Z"
    }
   },
   "outputs": [],
   "source": [
    "with open(f'../prerequisites/cs.json') as f:\n",
    "    data = f.read()\n",
    "data = data.split('}\\n')\n",
    "data = [json.loads(one+'}') for one in data[:-1]]\n",
    "data = pd.DataFrame(data)\n",
    "pd.to_pickle(data,'data/relations/cs.pkl')\n",
    "data.head()"
   ]
  },
  {
   "cell_type": "code",
   "execution_count": null,
   "metadata": {
    "ExecuteTime": {
     "end_time": "2025-02-28T17:31:56.442652Z",
     "start_time": "2025-02-28T17:31:43.546139Z"
    }
   },
   "outputs": [],
   "source": [
    "with open(f'../prerequisites/psy.json') as f:\n",
    "    data = f.read()\n",
    "data = data.split('}\\n')\n",
    "data = [json.loads(one+'}') for one in data[:-1]]\n",
    "data = pd.DataFrame(data)\n",
    "pd.to_pickle(data,'data/relations/psy.pkl')\n",
    "data.head()"
   ]
  }
 ],
 "metadata": {
  "kernelspec": {
   "display_name": "xhx_kt_py38",
   "language": "python",
   "name": "xhx_kt_py38"
  },
  "language_info": {
   "codemirror_mode": {
    "name": "ipython",
    "version": 3
   },
   "file_extension": ".py",
   "mimetype": "text/x-python",
   "name": "python",
   "nbconvert_exporter": "python",
   "pygments_lexer": "ipython3",
   "version": "3.8.13"
  },
  "toc": {
   "base_numbering": 1,
   "nav_menu": {},
   "number_sections": true,
   "sideBar": true,
   "skip_h1_title": false,
   "title_cell": "Table of Contents",
   "title_sidebar": "Contents",
   "toc_cell": false,
   "toc_position": {},
   "toc_section_display": true,
   "toc_window_display": true
  },
  "varInspector": {
   "cols": {
    "lenName": 16,
    "lenType": 16,
    "lenVar": 40
   },
   "kernels_config": {
    "python": {
     "delete_cmd_postfix": "",
     "delete_cmd_prefix": "del ",
     "library": "var_list.py",
     "varRefreshCmd": "print(var_dic_list())"
    },
    "r": {
     "delete_cmd_postfix": ") ",
     "delete_cmd_prefix": "rm(",
     "library": "var_list.r",
     "varRefreshCmd": "cat(var_dic_list()) "
    }
   },
   "types_to_exclude": [
    "module",
    "function",
    "builtin_function_or_method",
    "instance",
    "_Feature"
   ],
   "window_display": false
  }
 },
 "nbformat": 4,
 "nbformat_minor": 2
}
