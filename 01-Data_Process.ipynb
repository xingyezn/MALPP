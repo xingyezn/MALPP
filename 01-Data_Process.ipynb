{
 "cells": [
  {
   "cell_type": "code",
   "execution_count": null,
   "metadata": {
    "ExecuteTime": {
     "end_time": "2025-03-02T09:57:40.140355Z",
     "start_time": "2025-03-02T09:57:39.886560Z"
    }
   },
   "outputs": [],
   "source": [
    "import json\n",
    "import pandas as pd\n",
    "import os\n",
    "import tqdm"
   ]
  },
  {
   "cell_type": "markdown",
   "metadata": {
    "ExecuteTime": {
     "end_time": "2025-02-28T17:07:02.152248Z",
     "start_time": "2025-02-28T17:07:02.147993Z"
    }
   },
   "source": [
    "# 筛选课程"
   ]
  },
  {
   "cell_type": "code",
   "execution_count": null,
   "metadata": {
    "ExecuteTime": {
     "end_time": "2025-04-04T09:01:22.177893Z",
     "start_time": "2025-04-04T09:01:22.173085Z"
    }
   },
   "outputs": [],
   "source": [
    "need_course = pd.read_pickle(f'data/entities/course.pkl')\n",
    "need_course['id'] = list(need_course['id'].apply(lambda x: int(x.split('_')[1])))\n",
    "need_course = need_course.reset_index(drop=True)\n",
    "ALL_C_id = list(need_course['id'])\n",
    "print(need_course['name'].value_counts())\n",
    "need_course = need_course.sort_values(by='name', ascending=False)\n",
    "need_course.head()"
   ]
  },
  {
   "cell_type": "markdown",
   "metadata": {},
   "source": [
    "## 展开所有的资源"
   ]
  },
  {
   "cell_type": "code",
   "execution_count": null,
   "metadata": {
    "ExecuteTime": {
     "end_time": "2025-04-04T09:01:34.892742Z",
     "start_time": "2025-04-04T09:01:34.888088Z"
    }
   },
   "outputs": [],
   "source": [
    "all_re_content = []\n",
    "for in_x, one_course in need_course.iterrows():\n",
    "    one_c_id = one_course['id']\n",
    "    one_c_name = one_course['name']\n",
    "    one_re_list = one_course['resource']\n",
    "    one_c_735164 = []\n",
    "    for one_re in one_re_list:\n",
    "        one_tit = one_re['titles']\n",
    "        one_re_id = one_re['resource_id'].split('_')\n",
    "        re_type = one_re_id[0]\n",
    "        kp_1 = one_tit[0]\n",
    "        kp_2 = one_tit[1]\n",
    "        kp_3 = one_tit[2]\n",
    "        one_re_content = {'course_id':one_c_id,'re_id':int(one_re_id[1]),'re_type':re_type,\n",
    "                          'title_old':one_tit,\n",
    "                          'kp_1':kp_1,'kp_2':kp_2,'kp_3':kp_3,\n",
    "                         'chapter':one_re['chapter'],'c_name':one_c_name}\n",
    "        all_re_content.append(one_re_content)\n",
    "all_re_content = pd.DataFrame(all_re_content)\n",
    "ALL_EXM_id = list(all_re_content[all_re_content['re_type']=='Ex']['re_id'])\n",
    "ALL_VIDEO_id = list(all_re_content[all_re_content['re_type']=='V']['re_id'])\n",
    "print(len(ALL_EXM_id),'exms')\n",
    "print(len(ALL_VIDEO_id),'video')\n",
    "all_re_content.head()"
   ]
  },
  {
   "cell_type": "markdown",
   "metadata": {},
   "source": [
    "## 拿到所有的练习id，找对应的问题id"
   ]
  },
  {
   "cell_type": "code",
   "execution_count": null,
   "metadata": {
    "ExecuteTime": {
     "end_time": "2025-03-02T10:00:23.656319Z",
     "start_time": "2025-03-02T10:00:23.278953Z"
    }
   },
   "outputs": [],
   "source": [
    "exercise_problem = pd.read_pickle(f'data/relations/exercise_problem.pkl')\n",
    "exercise_problem = exercise_problem[exercise_problem['e_id'].isin(ALL_EXM_id)]\n",
    "ALL_Q_id = list(exercise_problem['q_id'])\n",
    "print(len(ALL_Q_id),'questions')\n",
    "print(len(ALL_EXM_id),'exms')\n",
    "print(np.mean(exercise_problem['e_id'].value_counts()))\n",
    "exercise_problem.head()\n",
    "exercise_problem.to_pickle('data/select_data/exercise_problem.pkl')"
   ]
  },
  {
   "cell_type": "markdown",
   "metadata": {
    "ExecuteTime": {
     "end_time": "2025-02-28T17:47:24.381110Z",
     "start_time": "2025-02-28T17:47:24.371067Z"
    }
   },
   "source": [
    "# 利用课程找学生"
   ]
  },
  {
   "cell_type": "code",
   "execution_count": null,
   "metadata": {
    "ExecuteTime": {
     "end_time": "2025-03-02T10:02:04.802914Z",
     "start_time": "2025-03-02T10:01:53.120026Z"
    }
   },
   "outputs": [],
   "source": [
    "user = pd.read_pickle(f'data/entities/user.pkl')\n",
    "user['id'] = user['id'].apply(lambda x: int(x.split('_')[1]))"
   ]
  },
  {
   "cell_type": "code",
   "execution_count": null,
   "metadata": {
    "ExecuteTime": {
     "end_time": "2025-03-02T10:02:06.188166Z",
     "start_time": "2025-03-02T10:02:05.609871Z"
    }
   },
   "outputs": [],
   "source": [
    "user = user.reset_index(drop=True)\n",
    "ALL_STU_id = list(user['id'])\n",
    "print(len(ALL_STU_id),'students')\n",
    "user.head()"
   ]
  },
  {
   "cell_type": "markdown",
   "metadata": {},
   "source": [
    "# 获取观看过视频的学生"
   ]
  },
  {
   "cell_type": "code",
   "execution_count": null,
   "metadata": {
    "ExecuteTime": {
     "end_time": "2025-03-02T10:05:24.566367Z",
     "start_time": "2025-03-02T10:04:29.024578Z"
    }
   },
   "outputs": [],
   "source": [
    "\"\"\"只运行一次\"\"\"\n",
    "user_video = pd.read_pickle(f'data/relations/user-video.pkl')\n",
    "user_video['user_id'] = user_video['user_id'].apply(lambda x: int(x.split('_')[1]))"
   ]
  },
  {
   "cell_type": "code",
   "execution_count": null,
   "metadata": {
    "ExecuteTime": {
     "end_time": "2025-03-02T10:13:23.854483Z",
     "start_time": "2025-03-02T10:06:20.838529Z"
    }
   },
   "outputs": [],
   "source": [
    "all_need_user_video = []\n",
    "for i_x,one_row in user_video.iterrows():\n",
    "    for one_seq in one_row['seq']:\n",
    "        one_data = one_seq.copy()\n",
    "        for one_p in one_data['segment']:\n",
    "            one_p_data = one_p.copy()\n",
    "            one_p_data['user_id'] = one_row['user_id']\n",
    "            one_p_data['video_id'] = one_data['video_id']\n",
    "            all_need_user_video.append(one_p_data)\n",
    "all_need_user_video = pd.DataFrame(all_need_user_video)\n",
    "all_need_user_video['video_id'] = all_need_user_video['video_id'].apply(lambda x: int(x.split('_')[1]))\n",
    "all_need_user_video"
   ]
  },
  {
   "cell_type": "code",
   "execution_count": null,
   "metadata": {
    "ExecuteTime": {
     "end_time": "2025-03-02T10:14:27.011546Z",
     "start_time": "2025-03-02T10:14:26.922107Z"
    }
   },
   "outputs": [],
   "source": [
    "ALL_Video_data = all_re_content[all_re_content['re_type']=='V']\n",
    "video_2_course = dict(zip(ALL_Video_data['re_id'],ALL_Video_data['course_id']))\n",
    "all_need_user_video['course_id'] = all_need_user_video['video_id'].map(video_2_course)\n",
    "course_cilick = all_need_user_video['course_id'].value_counts()\n",
    "good_course = list(course_cilick[course_cilick>10000].index)"
   ]
  },
  {
   "cell_type": "markdown",
   "metadata": {},
   "source": [
    "# 利用学生和课程，筛选学生的作答数据"
   ]
  },
  {
   "cell_type": "code",
   "execution_count": null,
   "metadata": {
    "ExecuteTime": {
     "end_time": "2025-03-02T10:19:55.947337Z",
     "start_time": "2025-03-02T10:18:58.709073Z"
    }
   },
   "outputs": [],
   "source": [
    "all_user_problem = pd.read_pickle(f'data/relations/all_user_problem.pkl')\n",
    "all_user_problem.head()"
   ]
  },
  {
   "cell_type": "code",
   "execution_count": null,
   "metadata": {
    "ExecuteTime": {
     "end_time": "2025-03-02T10:20:25.799794Z",
     "start_time": "2025-03-02T10:20:25.723762Z"
    }
   },
   "outputs": [],
   "source": [
    "ALL_Ex_data = all_re_content[all_re_content['re_type']=='Ex']\n",
    "ex_2_course = dict(zip(ALL_Ex_data['re_id'],ALL_Ex_data['course_id']))\n",
    "q_2_ex = dict(zip(exercise_problem['q_id'],exercise_problem['e_id']))\n",
    "all_user_problem['ex_id'] = all_user_problem['problem_id'].map(q_2_ex)\n",
    "all_user_problem['course_id'] = all_user_problem['ex_id'].map(ex_2_course)\n",
    "good_course_q = all_user_problem['course_id'].value_counts()\n",
    "good_course_id = list(good_course_q[good_course_q>100000].index)\n",
    "select_course = list(set(good_course_id) & set(good_course))\n",
    "select_course_q_data = all_user_problem[all_user_problem['course_id'].isin(select_course)]\n",
    "select_course_video_data = all_need_user_video[all_need_user_video['course_id'].isin(select_course)]\n",
    "select_course_video_data"
   ]
  },
  {
   "cell_type": "code",
   "execution_count": null,
   "metadata": {
    "ExecuteTime": {
     "end_time": "2025-03-02T11:31:34.189979Z",
     "start_time": "2025-03-02T11:31:34.127306Z"
    }
   },
   "outputs": [],
   "source": [
    "video_stu_num = select_course_video_data['user_id'].value_counts()\n",
    "video_stu_num = video_stu_num[video_stu_num>10].index\n",
    "q_stu_num = select_course_q_data['user_id'].value_counts()\n",
    "q_stu_num = q_stu_num[q_stu_num>50].index\n",
    "select_stu = list(set(video_stu_num) & set(q_stu_num))\n",
    "print(len(select_stu))"
   ]
  },
  {
   "cell_type": "code",
   "execution_count": null,
   "metadata": {
    "ExecuteTime": {
     "end_time": "2025-03-02T12:21:45.707225Z",
     "start_time": "2025-03-02T12:21:45.650440Z"
    }
   },
   "outputs": [],
   "source": [
    "final_user_video_data = select_course_video_data[select_course_video_data['user_id'].isin(select_stu)]\n",
    "final_user_video_data = final_user_video_data.reset_index(drop=True)\n",
    "final_user_video_data['ts'] = pd.to_datetime(final_user_video_data['local_start_time'], unit='s')\n",
    "final_user_video_data.head()"
   ]
  },
  {
   "cell_type": "code",
   "execution_count": null,
   "metadata": {
    "ExecuteTime": {
     "end_time": "2025-03-02T11:41:24.989031Z",
     "start_time": "2025-03-02T11:41:24.892273Z"
    }
   },
   "outputs": [],
   "source": [
    "final_user_question_data = select_course_q_data[select_course_q_data['user_id'].isin(select_stu)]\n",
    "need_col = ['problem_id', 'user_id', 'is_correct', 'submit_time', 'ex_id', 'course_id']\n",
    "final_user_question_data = final_user_question_data.reset_index(drop=True)[need_col]\n",
    "final_user_question_data.head()"
   ]
  },
  {
   "cell_type": "code",
   "execution_count": null,
   "metadata": {
    "ExecuteTime": {
     "end_time": "2025-03-02T11:50:33.147326Z",
     "start_time": "2025-03-02T11:50:33.128683Z"
    }
   },
   "outputs": [],
   "source": [
    "final_course_data = need_course[need_course['id'].isin(select_course)]\n",
    "need_col = ['id','name','about','resource']\n",
    "final_user_data = user[user['id'].isin(select_stu)]\n",
    "final_user_data = final_user_data.reset_index(drop=True)\n",
    "final_user_data.to_pickle('data/select_data/user.pkl')\n",
    "final_user_question_data.to_pickle('data/select_data/user_question.pkl')\n",
    "final_user_video_data.to_pickle('data/select_data/user_video.pkl')\n",
    "final_course_data.to_pickle('data/select_data/course.pkl')"
   ]
  },
  {
   "cell_type": "markdown",
   "metadata": {},
   "source": [
    "# 获取学生的评论数据"
   ]
  },
  {
   "cell_type": "code",
   "execution_count": null,
   "metadata": {
    "ExecuteTime": {
     "end_time": "2025-03-02T11:47:41.814075Z",
     "start_time": "2025-03-02T11:47:25.418592Z"
    }
   },
   "outputs": [],
   "source": [
    "all_comment = pd.read_pickle('data/entities/comment.pkl')\n",
    "all_comment['id']  = all_comment['id'].apply(lambda x: int(x.split('_')[1]))\n",
    "all_comment = all_comment[all_comment['user_id'].isin(select_stu)]\n",
    "all_comment.to_pickle('data/select_data/user_comment.pkl')\n",
    "all_comment"
   ]
  },
  {
   "cell_type": "code",
   "execution_count": null,
   "metadata": {
    "ExecuteTime": {
     "end_time": "2025-03-01T17:47:20.603216Z",
     "start_time": "2025-03-01T17:47:20.232715Z"
    }
   },
   "outputs": [],
   "source": [
    "concept_video = pd.read_pickle('data/relations/concept_video.pkl')\n",
    "concept_video"
   ]
  }
 ],
 "metadata": {
  "kernelspec": {
   "display_name": "xhx_kt_py38",
   "language": "python",
   "name": "xhx_kt_py38"
  },
  "language_info": {
   "codemirror_mode": {
    "name": "ipython",
    "version": 3
   },
   "file_extension": ".py",
   "mimetype": "text/x-python",
   "name": "python",
   "nbconvert_exporter": "python",
   "pygments_lexer": "ipython3",
   "version": "3.8.13"
  },
  "toc": {
   "base_numbering": 1,
   "nav_menu": {},
   "number_sections": true,
   "sideBar": true,
   "skip_h1_title": false,
   "title_cell": "Table of Contents",
   "title_sidebar": "Contents",
   "toc_cell": false,
   "toc_position": {},
   "toc_section_display": true,
   "toc_window_display": true
  },
  "varInspector": {
   "cols": {
    "lenName": 16,
    "lenType": 16,
    "lenVar": 40
   },
   "kernels_config": {
    "python": {
     "delete_cmd_postfix": "",
     "delete_cmd_prefix": "del ",
     "library": "var_list.py",
     "varRefreshCmd": "print(var_dic_list())"
    },
    "r": {
     "delete_cmd_postfix": ") ",
     "delete_cmd_prefix": "rm(",
     "library": "var_list.r",
     "varRefreshCmd": "cat(var_dic_list()) "
    }
   },
   "types_to_exclude": [
    "module",
    "function",
    "builtin_function_or_method",
    "instance",
    "_Feature"
   ],
   "window_display": false
  }
 },
 "nbformat": 4,
 "nbformat_minor": 2
}
